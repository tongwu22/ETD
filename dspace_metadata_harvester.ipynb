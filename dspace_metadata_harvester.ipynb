{
 "cells": [
  {
   "cell_type": "markdown",
   "id": "4bb5aeb1-343a-4bc5-83e8-73939e1c0d89",
   "metadata": {},
   "source": [
    "# Harvest License Information from ETD Metadata Records with OAI:PMH"
   ]
  },
  {
   "cell_type": "code",
   "execution_count": null,
   "id": "c7a5e8c9-deef-4de3-a872-c9d9793d9061",
   "metadata": {},
   "outputs": [],
   "source": [
    "from oaipmh.client import Client\n",
    "from oaipmh.metadata import MetadataRegistry, oai_dc_reader\n",
    "import pandas as pd"
   ]
  },
  {
   "cell_type": "markdown",
   "id": "ce311077-35f9-49f0-94bf-83bdd9116d53",
   "metadata": {},
   "source": [
    "To run the `ListSets` operation and retrieve the set identifiers from the DSpace repository, you can use the `pyoai` library. This will allow you to identify the set corresponding to the community you're interested in harvesting."
   ]
  },
  {
   "cell_type": "code",
   "execution_count": null,
   "id": "388cdad8-e2e4-48d1-881f-c5818e4c148d",
   "metadata": {},
   "outputs": [],
   "source": [
    "# Initialize OAI-PMH client\n",
    "endpoint = \"https://vtechworks.lib.vt.edu/oai/request\"\n",
    "registry = MetadataRegistry()\n",
    "registry.registerReader('oai_dc', oai_dc_reader)\n",
    "client = Client(endpoint, registry)\n",
    "\n",
    "# Fetch and list sets\n",
    "sets = client.listSets()"
   ]
  },
  {
   "cell_type": "markdown",
   "id": "0a669586-8f85-47f1-a650-2ffb675c88d0",
   "metadata": {},
   "source": [
    "This will print out the `set_spec` and `set_name` for the set corresponding to the community with the handle `10919/5534`. You can then use this `set_spec` for harvesting records from that specific community."
   ]
  },
  {
   "cell_type": "code",
   "execution_count": null,
   "id": "8fa1196b-f64f-47f7-95e7-70e32994491a",
   "metadata": {},
   "outputs": [],
   "source": [
    "# The handle of the ETD community in VTechWorks\n",
    "target_handle = \"10919_5534\"\n",
    "\n",
    "for set_spec, set_name, _ in sets:\n",
    "    if target_handle in set_spec:\n",
    "        print(f\"Set Spec: {set_spec}, Set Name: {set_name}\")"
   ]
  },
  {
   "cell_type": "markdown",
   "id": "6d78a53b-5971-4241-8f87-b4e6d2c5fa31",
   "metadata": {},
   "source": [
    "By running this code, you'll get a list of metadata formats supported by the repository, displayed as their prefixes, schemas, and namespaces. You can then choose the most suitable metadata prefix for your harvesting task."
   ]
  },
  {
   "cell_type": "code",
   "execution_count": null,
   "id": "d01d6fab-e70a-48d2-b906-407e9ba96549",
   "metadata": {},
   "outputs": [],
   "source": [
    "# List available metadata formats\n",
    "metadata_formats = client.listMetadataFormats()\n",
    "\n",
    "for prefix, schema, namespace in metadata_formats:\n",
    "    print(f\"Prefix: {prefix}, Schema: {schema}, Namespace: {namespace}\")"
   ]
  },
  {
   "cell_type": "code",
   "execution_count": null,
   "id": "5436ce70-2322-4ce8-a5ea-69230f4d273e",
   "metadata": {},
   "outputs": [],
   "source": [
    "from oaipmh.metadata import MetadataReader\n",
    "from oaipmh.client import Client\n",
    "from oaipmh.metadata import MetadataRegistry\n",
    "\n",
    "from lxml import etree  # Make sure to import the etree module\n",
    "\n",
    "# Define the custom DIMReader\n",
    "class DIMReader(MetadataReader):\n",
    "    \"\"\"A reader for the 'dim' metadata format.\"\"\"\n",
    "    # Define the namespaces used in the 'dim' metadata format\n",
    "    namespaces = {\n",
    "        'dim': 'http://www.dspace.org/xmlns/dspace/dim',\n",
    "        'xsi': 'http://www.w3.org/2001/XMLSchema-instance'\n",
    "    }\n",
    "    \n",
    "    fields = {\n",
    "        'identifier_uri': ('textList', './dim:dim/dim:field[@mdschema=\"dc\" and @element=\"identifier\" and @qualifier=\"uri\"]/text()'),\n",
    "        'title': ('textList', './dim:dim/dim:field[@mdschema=\"dc\" and @element=\"title\"]/text()'),\n",
    "        'author': ('textList', './dim:dim/dim:field[@mdschema=\"dc\" and @element=\"contributor\" and @qualifier=\"author\"]/text()'),\n",
    "        'department': ('textList', './dim:dim/dim:field[@mdschema=\"dc\" and @element=\"contributor\" and @qualifier=\"department\"]/text()'),\n",
    "        'committeechair': ('textList', './dim:dim/dim:field[@mdschema=\"dc\" and @element=\"contributor\" and @qualifier=\"committeechair\"]/text()'),\n",
    "        'committeemembers': ('textList', './dim:dim/dim:field[@mdschema=\"dc\" and @element=\"contributor\" and @qualifier=\"committeemember\"]/text()'),\n",
    "        'abstract': ('textList', './dim:dim/dim:field[@mdschema=\"dc\" and @element=\"description\" and @qualifier=\"abstract\"]/text()'),\n",
    "        'abstract_general': ('textList', './dim:dim/dim:field[@mdschema=\"dc\" and @element=\"description\" and @qualifier=\"abstractgeneral\"]/text()'),\n",
    "        'subject_terms': ('textList', './dim:dim/dim:field[@mdschema=\"dc\" and @element=\"subject\"]/text()'),\n",
    "        'degree_name': ('textList', './dim:dim/dim:field[@mdschema=\"dc\" and @element=\"description\" and @qualifier=\"degree\"]/text()'),\n",
    "        'degree_level': ('textList', './dim:dim/dim:field[@mdschema=\"thesis\" and @element=\"degree\" and @qualifier=\"level\"]/text()'),\n",
    "        'degree_grantor': ('textList', './dim:dim/dim:field[@mdschema=\"thesis\" and @element=\"degree\" and @qualifier=\"grantor\"]/text()'),\n",
    "        'degree_discipline': ('textList', './dim:dim/dim:field[@mdschema=\"thesis\" and @element=\"degree\" and @qualifier=\"discipline\"]/text()'),\n",
    "        'type': ('textList', './dim:dim/dim:field[@mdschema=\"dc\" and @element=\"type\"]/text()'),\n",
    "        'format': ('textList', './dim:dim/dim:field[@mdschema=\"dc\" and @element=\"format\" and @qualifier=\"medium\"]/text()'),\n",
    "        'publisher': ('textList', './dim:dim/dim:field[@mdschema=\"dc\" and @element=\"publisher\"]/text()'),\n",
    "        'license': ('textList', './dim:dim/dim:field[@mdschema=\"dc\" and @element=\"rights\"][1]/text()'),\n",
    "        'license_url': ('textList', './dim:dim/dim:field[@mdschema=\"dc\" and @element=\"rights\" and @qualifier=\"uri\"]/text()'),\n",
    "        'date_accessioned': ('textList', './dim:dim/dim:field[@mdschema=\"dc\" and @element=\"date\" and @qualifier=\"accessioned\"]/text()'),\n",
    "        'date_available': ('textList', './dim:dim/dim:field[@mdschema=\"dc\" and @element=\"date\" and @qualifier=\"available\"]/text()'),\n",
    "        'date_issued': ('textList', './dim:dim/dim:field[@mdschema=\"dc\" and @element=\"date\" and @qualifier=\"issued\"]/text()')\n",
    "    }\n",
    "        \n",
    "    # Initialize the reader\n",
    "    def __init__(self):\n",
    "        super(DIMReader, self).__init__(fields=self.fields, namespaces=self.namespaces)\n",
    "\n",
    "    def __call__(self, element):\n",
    "        map = {}\n",
    "        \n",
    "        # Serialize the XML for debugging\n",
    "        # xml_str = etree.tostring(element, pretty_print=True)\n",
    "        # print(\"Debug: Serialized XML:\")\n",
    "        # print(xml_str.decode('utf-8'))\n",
    "        \n",
    "        for field, (mdtype, xpath) in self._fields.items():\n",
    "            # print(f\"Debug: XPath: {xpath}, Field: {field}, mdtype: {mdtype}\")  # Debug print\n",
    "            el_list = element.xpath(xpath, namespaces=self._namespaces)\n",
    "            # print(f\"Debug: XPath: {xpath}, Result: {el_list}\")  # Debug print\n",
    "            if mdtype == 'text':\n",
    "                map[field] = el_list\n",
    "            elif mdtype == 'textList':\n",
    "                # Join the elements of the list into a single string\n",
    "                map[field] = '; '.join(el_list) \n",
    "        # print(f\"Debug: Final map: {map}\")  # Debug print\n",
    "        return map\n",
    "\n",
    "\n",
    "# Test the custom DIMReader\n",
    "\n",
    "# Initialize OAI-PMH client\n",
    "registry = MetadataRegistry()\n",
    "registry.registerReader('dim', DIMReader())\n",
    "client = Client('https://vtechworks.lib.vt.edu/oai/request', registry)\n",
    "\n",
    "header, metadata, about = client.getRecord(\n",
    "    metadataPrefix='dim', identifier='oai:vtechworks.lib.vt.edu:10919/103424'\n",
    ")\n",
    "\n",
    "print(metadata)"
   ]
  },
  {
   "cell_type": "markdown",
   "id": "0e2df3e4-d4ce-4c7a-97ae-939d5abd6635",
   "metadata": {},
   "source": [
    "This code harvests metadata from the DSpace set identified as `com_10919_5534` using the OAI-PMH protocol. It initializes an empty list, `metadata_list`, to store the harvested records. A `for` loop iterates through the records fetched by the `listRecords` method, extracting the header and metadata. Each metadata record, along with its datestamp, is converted to a dictionary and appended to `metadata_list`. Finally, this list is transformed into a Pandas DataFrame, `df`, for easier data manipulation and analysis."
   ]
  },
  {
   "cell_type": "code",
   "execution_count": null,
   "id": "d8cac3bf-1cd0-44fa-bd18-b3189fc9f493",
   "metadata": {},
   "outputs": [],
   "source": [
    "from oaipmh.client import Client\n",
    "from oaipmh.metadata import MetadataRegistry\n",
    "import pandas as pd\n",
    "import time\n",
    "\n",
    "def fetch_metadata(target_set):\n",
    "    # Initialize OAI-PMH client\n",
    "    registry = MetadataRegistry()\n",
    "    registry.registerReader('dim', DIMReader())\n",
    "    client = Client('https://vtechworks.lib.vt.edu/oai/request', registry)\n",
    "    \n",
    "    # Initialize an empty list to collect metadata\n",
    "    metadata_list = []\n",
    "    \n",
    "    # Initialize counters\n",
    "    record_count = 0  # Total records processed\n",
    "    batch_count = 1  # Batch number\n",
    "    batch_size = 5000  # Number of records per batch\n",
    "    max_retries = 3  # Maximum number of retries\n",
    "    retry_count = 0  # Initialize retry counter\n",
    "    \n",
    "    while retry_count < max_retries:\n",
    "        try:\n",
    "            records = client.listRecords(metadataPrefix='dim', set=target_set)\n",
    "            for header, meta_dict, _ in records:\n",
    "                record_count += 1\n",
    "        \n",
    "                # Check if metadata is None\n",
    "                if meta_dict is None:\n",
    "                    # print(\"Skipping record due to missing metadata.\")\n",
    "                    continue\n",
    "                    \n",
    "                # meta_dict['datestamp'] = header.datestamp()\n",
    "                metadata_list.append(meta_dict)\n",
    "        \n",
    "                # Check if it's time to save a batch\n",
    "                # if record_count % batch_size == 0:\n",
    "                #     df_batch = pd.DataFrame(metadata_list)\n",
    "                #     df_batch.to_csv(f'metadata_batch_{batch_count}.csv', index=False)\n",
    "                #     metadata_list = []  # Clear the list for the next batch\n",
    "                #     batch_count += 1  # Increment the batch counter\n",
    "    \n",
    "            # If processing is successful, reset retry count\n",
    "            retry_count = 0\n",
    "            break  # Exit the loop if successful\n",
    "    \n",
    "        except Exception as e:\n",
    "            print(f\"An error occurred: {e}\")\n",
    "            retry_count += 1  # Increment retry counter\n",
    "            print(f\"Retrying in 60 seconds... (Attempt {retry_count} of {max_retries})\")\n",
    "            time.sleep(60)\n",
    "    \n",
    "    if retry_count >= max_retries:\n",
    "        print(\"Max retries reached. Exiting.\")\n",
    "        return None\n",
    "    \n",
    "    return pd.DataFrame(metadata_list)\n",
    "\n",
    "\n",
    "\n",
    "target_set = \"com_10919_5534\"\n",
    "\n",
    "df_batch = fetch_metadata(target_set)\n",
    "df_batch.to_csv(f'data/vt_etd_metadata_all.csv', index=False)"
   ]
  },
  {
   "cell_type": "code",
   "execution_count": null,
   "id": "987fbd07-04da-46ed-b92b-39c8a71167d8",
   "metadata": {},
   "outputs": [],
   "source": []
  }
 ],
 "metadata": {
  "kernelspec": {
   "display_name": "Python 3 (ipykernel)",
   "language": "python",
   "name": "python3"
  },
  "language_info": {
   "codemirror_mode": {
    "name": "ipython",
    "version": 3
   },
   "file_extension": ".py",
   "mimetype": "text/x-python",
   "name": "python",
   "nbconvert_exporter": "python",
   "pygments_lexer": "ipython3",
   "version": "3.12.0"
  }
 },
 "nbformat": 4,
 "nbformat_minor": 5
}
