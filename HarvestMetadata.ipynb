{
 "cells": [
  {
   "cell_type": "markdown",
   "id": "fd3d60c5-6b17-4717-8fe1-99cc7556996f",
   "metadata": {},
   "source": [
    "# This document is intended to provide a guidance to use the OAI-PMH protocol to harvest metadata and subsequently crawl ETDs from the institutional repositories"
   ]
  },
  {
   "cell_type": "markdown",
   "id": "9d01635c-e9ac-4f8a-bc32-49788225fb0d",
   "metadata": {},
   "source": [
    "## Please keep the information of the URLs that you use for this process for each repositories in a separate file. \n",
    "Make sure to look at Robots.txt for the site to obey instructions to crawl their website. Look at how many requests per second they support. Consider adding a delay (sleep) if needed. Usage: url/robots.txt\n",
    "\n",
    "### Verbs:\n",
    "1. Identify -  This verb is used to retrieve information about a repository.\n",
    "\n",
    "2. ListMetadataFormats - This verb is used to retrieve the metadata formats available from a repository.\n",
    "\n",
    "3. ListSets - This verb is used to retrieve the set structure of a repository\n",
    "\n",
    "4. ListRecords - This verb is used to harvest records from a repository.\n",
    "   \n",
    "5. GetRecord - This verb is used to retrieve an individual metadata record from a repository\n",
    "\n",
    "For information on what \"verb\" to use and how to use them look at the documentation at https://www.openarchives.org/OAI/openarchivesprotocol.html"
   ]
  },
  {
   "cell_type": "markdown",
   "id": "4faccf3d-4bbd-414c-9542-7dbbb68e4129",
   "metadata": {},
   "source": [
    "## Find OAI-PMH endpoint and use verb \"Identify\"\n"
   ]
  },
  {
   "cell_type": "code",
   "execution_count": 1,
   "id": "fbd193c2-d8ec-4ccd-a534-06f911f1f8cf",
   "metadata": {},
   "outputs": [],
   "source": [
    "# To do so, navigate to the institutional repository you want to harvest. \n",
    "# Look at the URL and then try to find the oai-pmh endpoint by trying some combinations of keywords with the URL. \n",
    "# For example, https://scholar.afit.edu/do/oai/?verb=Identify or https://vtechworks.lib.vt.edu/server/oai/request?verb=Identify\n"
   ]
  },
  {
   "cell_type": "markdown",
   "id": "fe838dcf-8eb2-45f9-8542-bf61a2a025ea",
   "metadata": {},
   "source": [
    "## Use verb \"ListMetadataFormats\" verb to find the available metadata formats \n",
    "We need this information to get the metadata record in the format desired and supported by the repository. "
   ]
  },
  {
   "cell_type": "code",
   "execution_count": 2,
   "id": "b011e30e-95c1-46db-9044-e505c2090c62",
   "metadata": {},
   "outputs": [],
   "source": [
    "#Example, \n",
    "## https://scholar.afit.edu/do/oai/?verb=ListMetadataFormats\n",
    "## https://vtechworks.lib.vt.edu/server/oai/request?verb=ListMetadataFormats"
   ]
  },
  {
   "cell_type": "markdown",
   "id": "0da5e7ee-d414-4bb6-9abd-5dd4128a1b58",
   "metadata": {},
   "source": [
    "## Use verb \"ListSets\" to find the ETD metadata endpoint. For this, first find the set list by using the and identifying the name of the ETD set. \n"
   ]
  },
  {
   "cell_type": "code",
   "execution_count": 3,
   "id": "75dd5f22-7def-49d2-8c79-f2afa5716a04",
   "metadata": {},
   "outputs": [],
   "source": [
    "### For example, for https://scholar.afit.edu/do/oai/?verb=ListSets , the ETD set name is publication:etd \n",
    "### For https://vtechworks.lib.vt.edu/server/oai/request?verb=ListSets, the ETD set name is com_10919_5534\n",
    "\n",
    "# There might be multiple such sets. It depends on the University on how they decided to name and organize collections. For example, there \n",
    "# might be separate collection for Masters' or Doctoral documents. Make sure to collect the information for all such ETDs"
   ]
  },
  {
   "cell_type": "markdown",
   "id": "b67eafe3-ae70-4621-a920-e3c29f19c1eb",
   "metadata": {},
   "source": [
    "## Use verb \"ListRecords\" to fetch the records from the \"set\" (ETD) and the metadata format. It needs arguments \n",
    "Arguments \n",
    "\n",
    "- **from** an optional argument with a UTCdatetime value, which specifies a lower bound for datestamp-based selective harvesting.\n",
    "**until** an optional argument with a UTCdatetime value, which specifies a upper bound for datestamp-based selective harvesting.\n",
    "\n",
    "- **metadataPrefix** a required argument, which specifies that headers should be returned only if the metadata format matching the supplied metadataPrefix is available or, depending on the repository's support for deletions, has been deleted. The metadata formats supported by a repository and for a particular item can be retrieved using the ListMetadataFormats request.\n",
    "\n",
    "- **set** an optional argument with a setSpec value , which specifies set criteria for selective harvesting.\n",
    "\n",
    "- **resumptionToken** an exclusive argument with a value that is the flow control token returned by a previous ListIdentifiers request that issued an incomplete list.\n",
    "\n"
   ]
  },
  {
   "cell_type": "code",
   "execution_count": 4,
   "id": "b3e6aa86-cb98-462e-86b4-eed2d7b95587",
   "metadata": {},
   "outputs": [],
   "source": [
    "# Examples:https://vtechworks.lib.vt.edu/server/oai/request?verb=ListRecords&set=com_10919_5534&metadataPrefix=oai_dc\n",
    "#and https://scholar.afit.edu/do/oai/?verb=ListRecords&set=publication:etd&metadataPrefix=oai_openaire"
   ]
  },
  {
   "cell_type": "markdown",
   "id": "3c52cf9c-3671-44f8-bcb0-0fdde7031904",
   "metadata": {},
   "source": [
    "## Use verb \"GetRecord\" to fetch information about one record.\n",
    "\n",
    "Arguments\n",
    "\n",
    "- **identifier** a required argument that specifies the unique identifier of the item in the repository from which the record must be disseminated.\n",
    "\n",
    "- **metadataPrefix** a required argument that specifies the metadataPrefix of the format that should be included in the metadata part of the returned record . A record should only be returned if the format specified by the metadataPrefix can be disseminated from the item identified by the value of the identifier argument. The metadata formats supported by a repository and for a particular record can be retrieved using the ListMetadataFormats request."
   ]
  },
  {
   "cell_type": "code",
   "execution_count": 5,
   "id": "75c62f70-614f-42e7-9f74-3f42313cfbe2",
   "metadata": {},
   "outputs": [],
   "source": [
    "# Examples: https://vtechworks.lib.vt.edu/server/oai/request?verb=GetRecord&identifier=oai:vtechworks.lib.vt.edu:10919/10342&metadataPrefix=oai_dc\n",
    "#and https://scholar.afit.edu/do/oai/?verb=GetRecord&identifier=oai:scholar.afit.edu:etd-1211&metadataPrefix=oai_dc"
   ]
  },
  {
   "cell_type": "markdown",
   "id": "0ce37b0c-085e-44d6-bcf6-d4e78b4abc7f",
   "metadata": {},
   "source": [
    "### Harvesting metadata "
   ]
  },
  {
   "cell_type": "code",
   "execution_count": 6,
   "id": "08a42c8c-1bcc-449d-91ab-dfb62d5593ec",
   "metadata": {},
   "outputs": [],
   "source": [
    "from sickle import Sickle\n",
    "#Sickle documentation https://sickle.readthedocs.io/en/latest/ & https://sickle.readthedocs.io/_/downloads/en/latest/pdf/"
   ]
  },
  {
   "cell_type": "code",
   "execution_count": 7,
   "id": "363429de-29e4-48e0-9c91-3b44e32e79a5",
   "metadata": {},
   "outputs": [],
   "source": [
    "# from sickle.iterator import OAIResponseIterator\n",
    "# sickle = Sickle('https://vtechworks.lib.vt.edu/server/oai/request', iterator=OAIResponseIterator)\n",
    "# responses = sickle.ListRecords(metadataPrefix='oai_dc')\n",
    "# responses.next()\n",
    "# with open('response_VT.xml', 'wb') as fp:\n",
    "#     fp.write(responses.next().raw.encode('utf8'))"
   ]
  },
  {
   "cell_type": "code",
   "execution_count": 8,
   "id": "4d12a773-a034-4281-9e27-714fe104cc0e",
   "metadata": {},
   "outputs": [],
   "source": [
    "# from sickle.iterator import OAIResponseIterator\n",
    "# sickle = Sickle('https://scholar.afit.edu/do/oai', iterator=OAIResponseIterator)\n",
    "# responses = sickle.ListRecords(metadataPrefix='oai_dc')\n",
    "# responses.next()\n",
    "# with open('response_AIF.xml', 'wb') as fp:\n",
    "#     fp.write(responses.next().raw.encode('utf8'))"
   ]
  },
  {
   "cell_type": "code",
   "execution_count": 9,
   "id": "31a2c21d-7474-4311-92dc-e4124c3df013",
   "metadata": {},
   "outputs": [],
   "source": [
    "#Examples of parsing the harvested XMLs can be found in https://github.com/lamps-lab/ETDMiner/blob/master/webcrawler/Duke/harvest_etds_Duke.py"
   ]
  },
  {
   "cell_type": "markdown",
   "id": "29e0282c-674a-47c5-8c46-10cb50fd297e",
   "metadata": {},
   "source": [
    "## Exceptions: Universities not using OAI-PMH - UC-systems, GaTech, CalTech.\n",
    "Use sitemap information to find the metadata. Sitemaps can be named in different ways. The page's robots.txt can come in handy eg: https://escholarship.org/robots.txt\n",
    "## More resources:\n",
    "- https://www.openarchives.org/Register/BrowseSites\n",
    "  "
   ]
  },
  {
   "cell_type": "code",
   "execution_count": null,
   "id": "9d3cc052-8604-4881-9b96-b0530531222d",
   "metadata": {},
   "outputs": [],
   "source": []
  }
 ],
 "metadata": {
  "kernelspec": {
   "display_name": "myenv",
   "language": "python",
   "name": "myenv"
  },
  "language_info": {
   "codemirror_mode": {
    "name": "ipython",
    "version": 3
   },
   "file_extension": ".py",
   "mimetype": "text/x-python",
   "name": "python",
   "nbconvert_exporter": "python",
   "pygments_lexer": "ipython3",
   "version": "3.11.5"
  }
 },
 "nbformat": 4,
 "nbformat_minor": 5
}
